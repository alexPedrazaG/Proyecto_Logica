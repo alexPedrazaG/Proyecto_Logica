{
 "cells": [
  {
   "cell_type": "code",
   "execution_count": null,
   "metadata": {},
   "outputs": [
    {
     "name": "stdout",
     "output_type": "stream",
     "text": [
      "{'P': 1, 'r': 1, 'o': 3, 'y': 2, 'e': 2, 'c': 1, 't': 2, 'd': 1, 'p': 1, 'h': 1, 'n': 1}\n"
     ]
    }
   ],
   "source": [
    "\"\"\"\n",
    "1. Escribe una función que reciba una cadena de texto como parámetro y devuelva un diccionario con las frecuencias \n",
    "de cada letra en la cadena. Los espacios no deben ser considerados.\n",
    "\"\"\"\n",
    "def contar_frecuencia_letras(cadena):\n",
    "    \"\"\"\n",
    "    Recibe una cadena de texto y devuelve un diccionario con la frecuencia de cada letra.\n",
    "    Los espacios no son considerados.\n",
    "    \n",
    "    Parámetros:\n",
    "    cadena (str): La cadena de texto a analizar.\n",
    "    \n",
    "    Retorna:\n",
    "    dict: Un diccionario con las letras como claves y sus frecuencias como valores.\n",
    "    \"\"\"\n",
    "    frecuencia = {}  # Diccionario para almacenar las frecuencias\n",
    "    \n",
    "    for letra in cadena.replace(' ',\"\"): #Eliminan espacios\n",
    "        \n",
    "        if letra in frecuencia:\n",
    "            frecuencia[letra] += 1\n",
    "        else:\n",
    "            frecuencia[letra] = 1\n",
    "\n",
    "    return frecuencia\n",
    "\n",
    "# Ejemplo\n",
    "texto = \"Proyecto de Python\"\n",
    "resultado = contar_frecuencia_letras(texto)\n",
    "print(resultado)\n"
   ]
  },
  {
   "cell_type": "code",
   "execution_count": null,
   "metadata": {},
   "outputs": [
    {
     "name": "stdout",
     "output_type": "stream",
     "text": [
      "[10.6, 146, 48]\n"
     ]
    }
   ],
   "source": [
    "\"\"\"\n",
    "2. Dada una lista de números, obtén una nueva lista con el doble de cada valor. Usa la función map()\n",
    "\"\"\"\n",
    "def duplicar(numero):\n",
    "    \"\"\"\n",
    "    Recibe una lista de números y devuelve el doble.\n",
    "    \n",
    "    Parámetros:\n",
    "    numero (int,float): La lista de numeros.\n",
    "    \n",
    "    Retorna:\n",
    "    list: Una lista de numeros con el doble del valor recibido.\n",
    "    \"\"\"\n",
    "    return numero * 2 \n",
    "\n",
    "# Ejemplo\n",
    "lista_num=[5.3,73,24]\n",
    "lista_num_doble= list(map(duplicar,lista_num))\n",
    "\n",
    "# Usando map() con una función lambda quedaría más limpio\n",
    "#lista_num_doble = list(map(lambda x: x * 2, lista_num))\n",
    "\n",
    "print(lista_num_doble)"
   ]
  },
  {
   "cell_type": "code",
   "execution_count": null,
   "metadata": {},
   "outputs": [
    {
     "name": "stdout",
     "output_type": "stream",
     "text": [
      "['toro']\n"
     ]
    }
   ],
   "source": [
    "\"\"\"\n",
    "3. Escribe una función que tome una lista de palabras y una palabra objetivo como parámetros. La función debe\n",
    "devolver una lista con todas las palabras de la lista original que contengan la palabra objetivo.\n",
    "\"\"\"\n",
    "def lista_palabra_objetivo(lista_palabras, pal_objetivo):\n",
    "    \"\"\"\n",
    "    Recibe una lista de texto y una palabra objetivo, si la palabra objetivo se encuentra en la lista devuelve \n",
    "    toda una lista con la palabra objetivo si no se encuentra devuelva la lista vacia.\n",
    "    \n",
    "    Parámetros:\n",
    "    lista_palabras (list): Lista de palabras.\n",
    "    pal_objetivo (str): Palabra objetivo a analizar\n",
    "    \n",
    "    Retorna:\n",
    "    list: Una lista con las palabras si ha encontrado la palabra objetivo.\n",
    "    \"\"\"\n",
    "    list_pal_objetivo = []  # Lista donde guardar las palabras que contengan la palabra objetivo\n",
    "    \n",
    "    for palabra in lista_palabras: \n",
    "        \n",
    "        if pal_objetivo in palabra:\n",
    "            list_pal_objetivo.append(palabra)\n",
    "\n",
    "    return list_pal_objetivo\n",
    "\n",
    "# Ejemplo\n",
    "texto = ['gato', 'tortuga', 'perro', 'ganso', 'toro']\n",
    "pala_obj='toro'\n",
    "resultado = lista_palabra_objetivo(texto,pala_obj)\n",
    "print(resultado)"
   ]
  },
  {
   "cell_type": "code",
   "execution_count": null,
   "metadata": {},
   "outputs": [
    {
     "name": "stdout",
     "output_type": "stream",
     "text": [
      "La diferencia entre la primera_lista y la segunda_lista es:[7, 88, 3, 55, 20]\n",
      "La diferencia entre la segunda_lista y la primera_lista es:[4, 23, 5, 81, 79, 45, 33]\n"
     ]
    }
   ],
   "source": [
    "\"\"\"\n",
    "4. Genera una función que calcule la diferencia entre los valores de dos listas. Usa la función map()\n",
    "\"\"\"\n",
    "def diferencia_listas(lista1,lista2):\n",
    "    \"\"\"\n",
    "    Calcula la diferencia entre dos listas.\n",
    "    \n",
    "    Parámetros:\n",
    "    lista1 (list): Primera lista.\n",
    "    lista2 (list): Segunda lista.\n",
    "    \n",
    "    Retorna:\n",
    "    tuple: Elementos en lista1 que no están en lista2.\n",
    "    \"\"\"\n",
    "    # Devuelve los elementos en lista1 que no están en lista2\n",
    "    return [x for x in lista1 if x not in lista2]\n",
    "\n",
    "# Ejemplo\n",
    "primera_lista=[7,88,3,55,20,16,6]\n",
    "segunda_lista=[4,23,5,81,79,16,6,45,33]\n",
    "\n",
    "resultado= list(map(diferencia_listas,[primera_lista],[segunda_lista]))\n",
    "resultado2= list(map(diferencia_listas,[segunda_lista],[primera_lista]))\n",
    "\n",
    "print(f'La diferencia entre la primera_lista y la segunda_lista es:{resultado[0]}')\n",
    "print(f'La diferencia entre la segunda_lista y la primera_lista es:{resultado2[0]}')"
   ]
  },
  {
   "cell_type": "code",
   "execution_count": null,
   "metadata": {},
   "outputs": [
    {
     "name": "stdout",
     "output_type": "stream",
     "text": [
      "La media es 5.83 y el estado es Aprobado\n"
     ]
    }
   ],
   "source": [
    "\"\"\"\"\n",
    "5. Escribe una función que tome una lista de números como parámetro y un valor opcional nota_aprobado, que por\n",
    "defecto es 5. La función debe calcular la media de los números en la lista y determinar si la media es mayor o igual\n",
    "que nota aprobado. Si es así, el estado será \"aprobado\", de lo contrario, será \"suspenso\". La función debe devolver\n",
    "una tupla que contenga la media y el estado.\n",
    "\"\"\"\n",
    "def media_lista(lista_num,nota_aprobado=5):\n",
    "    \"\"\"\n",
    "    Calcula la media de los números en la lista y determina si la media es mayor o igual que nota aprobado\n",
    "    \n",
    "    Parámetros:\n",
    "    lista_num (list): Lista de números.\n",
    "    nota_aprobado (int): Numero, por defecto es 5.\n",
    "    \n",
    "    Retorna:\n",
    "    tuple: contenga la media y el estado\n",
    "    \"\"\"\n",
    "    if len(lista_num) == 0:  # Para evitar división por cero\n",
    "        return (0,\"Suspenso\")\n",
    "    \n",
    "    media=round(sum(lista_num) / len(lista_num),2) # cálculo de la media\n",
    "    estado= 'Aprobado' if media >= nota_aprobado else 'Suspenso' # resultado de la condición\n",
    "\n",
    "    return (media,estado) # devuelve la tupla de media y estado\n",
    "\n",
    "# Ejemplo\n",
    "lista_notas=[4,8.5,6.3,3.5,9.7,3]\n",
    "resultado=media_lista(lista_notas)\n",
    "print(f\"La media es {resultado[0]} y el estado es {resultado[1]}\")"
   ]
  },
  {
   "cell_type": "code",
   "execution_count": null,
   "metadata": {},
   "outputs": [
    {
     "name": "stdout",
     "output_type": "stream",
     "text": [
      "El factorial de 6 es 720\n"
     ]
    }
   ],
   "source": [
    "\"\"\"\"\n",
    "6. Escribe una función que calcule el factorial de un número de manera recursiva.\n",
    "\"\"\"\n",
    "def factorial(n):\n",
    "    \"\"\"\n",
    "    Calcula el factorial de un número de manera recursiva.\n",
    "    \n",
    "    Parámetros:\n",
    "    n (int): El número del cual calcular el factorial.\n",
    "    \n",
    "    Retorna:\n",
    "    int: El factorial de n.\n",
    "    \"\"\"\n",
    "    # Caso base: el factorial de 0 es 1\n",
    "    if n == 0:\n",
    "        return 1\n",
    "    else:\n",
    "        # Llamada recursiva\n",
    "        return n * factorial(n - 1)\n",
    "\n",
    "# Ejemplo\n",
    "numero = 6\n",
    "resultado = factorial(numero)\n",
    "print(f'El factorial de {numero} es {resultado}')\n"
   ]
  },
  {
   "cell_type": "code",
   "execution_count": null,
   "metadata": {},
   "outputs": [
    {
     "name": "stdout",
     "output_type": "stream",
     "text": [
      "['5,7', '9,2', 'a,5']\n"
     ]
    }
   ],
   "source": [
    "\"\"\"\"\n",
    "7. Genera una función que convierta una lista de tuplas a una lista de strings. Usa la función map()\n",
    "\"\"\"\n",
    "def convertir_lista_str(tupla):\n",
    "    \"\"\"\n",
    "    Convierte una lista de tuplas a una lista de strings.\n",
    "    \n",
    "    Parámetros:\n",
    "    lista_tuplas (list): Lista de tuplas.\n",
    "    \n",
    "    Retorna:\n",
    "    list: Lista de strings.\n",
    "    \"\"\"\n",
    "    # Convertir cada tupla en un string\n",
    "    return f'{tupla[0]},{tupla[1]}'\n",
    "\n",
    "# Ejemplo\n",
    "lista_tuplas = [(5, 7), (9, 2), ('a', 5)]\n",
    "resultado= list(map(convertir_lista_str,lista_tuplas))\n",
    "\n",
    "print(resultado)"
   ]
  },
  {
   "cell_type": "code",
   "execution_count": 44,
   "metadata": {},
   "outputs": [
    {
     "name": "stdout",
     "output_type": "stream",
     "text": [
      "La división fue exitosa. El resultado es: -0.2\n"
     ]
    }
   ],
   "source": [
    "\"\"\"\"\n",
    "8. Escribe un programa que pida al usuario dos números e intente dividirlos. Si el usuario ingresa un valor no numérico\n",
    "o intenta dividir por cero, maneja esas excepciones de manera adecuada. Asegúrate de mostrar un mensaje\n",
    "indicando si la división fue exitosa o no.\n",
    "\"\"\"\n",
    "def division():\n",
    "    try:\n",
    "        # Pedir al usuario que ingrese dos números\n",
    "        primer_num = float(input('Por favor ingresa el primer número: '))\n",
    "        segundo_num = float(input('Por favor ingresa el segundo número: '))\n",
    "        \n",
    "        # Intentar realizar la división\n",
    "        resultado = round(primer_num / segundo_num,2)\n",
    "        \n",
    "    except ValueError:\n",
    "        # Captura si el usuario ingresa algo que no es un número\n",
    "        print(\"¡Error! Debes ingresar solo números.\")\n",
    "    \n",
    "    except ZeroDivisionError:\n",
    "        # Captura si intenta dividir por cero\n",
    "        print(\"¡Error! No se puede dividir por cero.\")\n",
    "    \n",
    "    else:\n",
    "        # Si no ocurre ninguna excepción, mostramos el resultado\n",
    "        print(f'La división fue exitosa. El resultado es: {resultado}')\n",
    "    \n",
    "# Llamar a la función\n",
    "division()\n"
   ]
  },
  {
   "cell_type": "code",
   "execution_count": 56,
   "metadata": {},
   "outputs": [
    {
     "name": "stdout",
     "output_type": "stream",
     "text": [
      "['Perro', 'gato', 'pájaro', 'pez']\n"
     ]
    }
   ],
   "source": [
    "\"\"\"\"\n",
    "9. Escribe una función que tome una lista de nombres de mascotas como parámetro y devuelva una nueva lista\n",
    "excluyendo ciertas mascotas prohibidas en España. La lista de mascotas a excluir es [\"Mapache\", \"Tigre\",\n",
    "\"Serpiente Pitón\", \"Cocodrilo\", \"Oso\"].Usa la función filter()\n",
    "\"\"\"\n",
    "def es_mascota_permitida(mascota):\n",
    "    \"\"\"\n",
    "    Verifica si una mascota está permitida, es decir, si no está en la lista de excluidas.\n",
    "    \n",
    "    Parámetros:\n",
    "    mascota (str): Nombre de la mascota (cadena de texto).\n",
    "    \n",
    "    Retorna:\n",
    "    bool: True si la mascota no está en la lista de excluidas, False si está excluida.\n",
    "    \"\"\"\n",
    "    # Lista de mascotas excluidas\n",
    "    list_masc_excl = ['Mapache', 'Tigre', 'Serpiente Pitón', 'Cocodrilo', 'Oso']\n",
    "\n",
    "     # Convertir todos los elementos de la lista a minúsculas\n",
    "    list_masc_excl_lower = [x.lower() for x in list_masc_excl]\n",
    "    \n",
    "    # Retorna True si la mascota no está en la lista de excluidas, de lo contrario False\n",
    "    return mascota.lower() not in list_masc_excl_lower\n",
    "\n",
    "def mascotas_permitidas(list_masco):\n",
    "    \"\"\"\n",
    "    Filtra las mascotas permitidas, es decir, las que no están en la lista de excluidas.\n",
    "    \n",
    "    Parámetros:\n",
    "    list_masco (list): Lista de nombres de mascotas (cadenas de texto).\n",
    "    \n",
    "    Retorna:\n",
    "    list: Lista de nombres de mascotas permitidas (cadenas de texto).\n",
    "    \"\"\"\n",
    "    # Usamos filter() con la función es_mascota_permitida\n",
    "    resultado = list(filter(es_mascota_permitida, list_masco))\n",
    "    \n",
    "    # Retorna la lista de mascotas permitidas\n",
    "    return resultado\n",
    "\n",
    "# Ejemplo\n",
    "lista_mascotas = ['Perro', 'gato', 'oso', 'pájaro', 'pez', 'tigre']\n",
    "resultado = mascotas_permitidas(lista_mascotas)\n",
    "print(resultado)\n"
   ]
  },
  {
   "cell_type": "code",
   "execution_count": 63,
   "metadata": {},
   "outputs": [
    {
     "name": "stdout",
     "output_type": "stream",
     "text": [
      "El promedio es 6.42\n"
     ]
    }
   ],
   "source": [
    "\"\"\"\"\n",
    "10. Escribe una función que reciba una lista de números y calcule su promedio. Si la lista está vacía, lanza una\n",
    "excepción personalizada y maneja el error adecuadamente.\n",
    "\"\"\"\n",
    "def promedio(lista_num):\n",
    "    \"\"\"\n",
    "    Recibe una lista de números y calcule su promedio\n",
    "    \n",
    "    Parámetros:\n",
    "    lista_num (list): Lista de números.\n",
    "    \n",
    "    Retorna:\n",
    "    numero: contiene el promedio\n",
    "    \"\"\"\n",
    "    try:\n",
    "        if len(lista_num) == 0:\n",
    "            # Lanzamos una excepción estándar si la lista está vacía\n",
    "            raise ValueError(\"La lista está vacía, no se puede calcular el promedio.\")\n",
    "        \n",
    "        # Calculamos el promedio\n",
    "        media = round(sum(lista_num) / len(lista_num), 2)  # Cálculo del promedio\n",
    "        \n",
    "    except ValueError as e:\n",
    "        # Manejo de la excepción estándar\n",
    "        print(e)\n",
    "        return None  # Retornamos None si la lista está vacía\n",
    "\n",
    "    return media\n",
    "\n",
    "# Ejemplo\n",
    "list_notas=[7,8.5,6.85,3.5,9.7,3]\n",
    "resultado=promedio(list_notas)\n",
    "print(f\"El promedio es {resultado}\")"
   ]
  },
  {
   "cell_type": "code",
   "execution_count": 68,
   "metadata": {},
   "outputs": [
    {
     "name": "stdout",
     "output_type": "stream",
     "text": [
      "Error: La edad no puede ser 0. Vuelva a introducir su edad.\n",
      "Error: La edad ingresada es poco realista (mayor de 120 años). Vuelva a introducir su edad.\n",
      "Error: La edad no puede ser negativa. Vuelva a introducir su edad.\n",
      "Su edad es: 66 años.\n"
     ]
    }
   ],
   "source": [
    "\"\"\"\"\n",
    "11. Escribe un programa que pida al usuario que introduzca su edad. Si el usuario ingresa un valor no numérico o un\n",
    "valor fuera del rango esperado (por ejemplo, menor que 0 o mayor que 120), maneja las excepciones\n",
    "adecuadamente.\n",
    "\"\"\"\n",
    "def fun_edad():\n",
    "    \"\"\"\n",
    "    Solicita al usuario una edad y maneja excepciones:\n",
    "    - Si el valor ingresado no es un número, muestra un error.\n",
    "    - Si la edad es menor que 0 o mayor que 120, muestra un error.\n",
    "    - Si la edad es válida, la retorna.\n",
    "    \"\"\"\n",
    "    while True:\n",
    "        try:\n",
    "            edad = int(input(\"Por favor, ingrese su edad: \"))\n",
    "\n",
    "            if edad < 0:\n",
    "                raise ValueError(\"La edad no puede ser negativa\")\n",
    "            elif edad == 0:\n",
    "                raise ValueError(\"La edad no puede ser 0\")\n",
    "            elif edad > 120:\n",
    "                raise ValueError(\"La edad ingresada es poco realista (mayor de 120 años)\")\n",
    "            \n",
    "            return edad  # Si es válida, la devolvemos y salimos del bucle\n",
    "\n",
    "        except ValueError as e:\n",
    "            print(f\"Error: {e}. Vuelva a introducir su edad.\")\n",
    "\n",
    "# Llamar a la función\n",
    "edad_usuario = fun_edad()\n",
    "print(f\"Su edad es: {edad_usuario} años.\")\n"
   ]
  },
  {
   "cell_type": "code",
   "execution_count": 74,
   "metadata": {},
   "outputs": [
    {
     "name": "stdout",
     "output_type": "stream",
     "text": [
      "[3, 2, 9, 6, 10, 2, 6, 2, 2, 1, 8, 2, 6]\n"
     ]
    }
   ],
   "source": [
    "\"\"\"\"\n",
    "12. Genera una función que al recibir una frase devuelva una lista con la longitud de cada palabra. Usa la función map()\n",
    "\"\"\"\n",
    "import re # Importamos la librería 're' para trabajar con expresiones regulares y limpiar signos de puntuación\n",
    "\n",
    "def list_len_word(frase):\n",
    "    \"\"\"\n",
    "    Recibe una frase y devuelve una lista con la longitud de cada palabra.\n",
    "\n",
    "    Parámetros:\n",
    "    frase (str): La frase a procesar.\n",
    "\n",
    "    Retorna:\n",
    "    list: Lista con la longitud de cada palabra en la frase.\n",
    "    \"\"\"\n",
    " \n",
    "    frase_limpia = re.sub(r'[^\\w\\s]', '', frase)  # Elimina todo lo que no sea una letra o un espacio\n",
    "\n",
    "    list_frase=frase_limpia.split() # Divide la frase en una lista de palabras\n",
    "\n",
    "    lista_result=list(map(len,list_frase)) # Lista donde almacernar la longitud de cada palabra\n",
    "\n",
    "    return lista_result\n",
    "\n",
    "# Ejemplo\n",
    "texto= 'Hoy he realizado muchos ejercicios de python, me va a explotar la cabeza.'\n",
    "resultado=list_len_word(texto)\n",
    "\n",
    "print(resultado)\n"
   ]
  },
  {
   "cell_type": "code",
   "execution_count": null,
   "metadata": {},
   "outputs": [
    {
     "name": "stdout",
     "output_type": "stream",
     "text": [
      "[('F', 'f'), ('G', 'g'), ('T', 't'), ('H', 'h'), ('R', 'r'), ('A', 'a')]\n"
     ]
    }
   ],
   "source": [
    "\"\"\"\"\n",
    "13. Genera una función la cual, para un conjunto de caracteres, devuelva una lista de tuplas con cada letra en\n",
    "mayúsculas y minúsculas. Las letras no pueden estar repetidas .Usa la función map()\n",
    "\"\"\"\n",
    "\n",
    "def letras_mayus_minus(caracteres):\n",
    "    \"\"\"\n",
    "    Recibe un conjunto de caracteres y devuelve una lista de tuplas con cada letra en mayúscula y minúscula.\n",
    "\n",
    "    Parámetros:\n",
    "    caracteres (iterable): Un conjunto de caracteres.\n",
    "\n",
    "    Retorna:\n",
    "    list: Lista de tuplas con cada letra en mayúscula y minúscula, sin repetir.\n",
    "    \"\"\"\n",
    "    # Filtramos solo letras y eliminamos duplicados con set()\n",
    "    caracter_unico = set(filter(str.isalpha, caracteres))\n",
    "\n",
    "    # Creamos las tuplas (mayúscula, minúscula) usando map()\n",
    "    result = list(map(lambda c: (c.upper(), c.lower()), caracter_unico))\n",
    "\n",
    "    return result\n",
    "\n",
    "# Ejemplo\n",
    "texto='.,agghtFR234??%'\n",
    "resultado= letras_mayus_minus(texto)\n",
    "print(resultado)\n"
   ]
  },
  {
   "cell_type": "code",
   "execution_count": null,
   "metadata": {},
   "outputs": [
    {
     "name": "stdout",
     "output_type": "stream",
     "text": [
      "['Cuchillo', 'Cuchara', 'Cucharilla']\n"
     ]
    }
   ],
   "source": [
    "\"\"\"\"\n",
    "14. Crea una función que retorne las palabras de una lista de palabras que comience con una letra en especifico. Usa la\n",
    "función filter()\n",
    "\"\"\"\n",
    "def comienza_con_letra(palabra, letra):\n",
    "    \"\"\"\n",
    "    Verifica si una palabra comienza con una letra específica.\n",
    "    :param palabra: La palabra a evaluar.\n",
    "    :param letra: La letra con la que debe comenzar la palabra.\n",
    "    :return: True si la palabra comienza con la letra, False en caso contrario.\n",
    "    \"\"\"\n",
    "    return palabra.lower().startswith(letra.lower())\n",
    "\n",
    "def filtro_palabra(palabra):\n",
    "    \"\"\"\n",
    "    Función auxiliar que actúa como el filtro para cada palabra.\n",
    "    :param palabra: La palabra a evaluar.\n",
    "    :return: True si la palabra comienza con la letra, False en caso contrario.\n",
    "    \"\"\"\n",
    "    # Usamos la letra global\n",
    "    return comienza_con_letra(palabra, letra_filtro)\n",
    "\n",
    "def palabras_con_letra(lista_palabras, letra):\n",
    "    \"\"\"\n",
    "    Filtra las palabras de una lista que comienzan con una letra específica usando filter().\n",
    "    :param lista_palabras: Lista de palabras a evaluar.\n",
    "    :param letra: Letra con la que deben comenzar las palabras.\n",
    "    :return: Lista con las palabras que cumplen la condición.\n",
    "    \"\"\"\n",
    "    global letra_filtro\n",
    "    letra_filtro = letra  # Guardamos la letra con la que se debe filtrar\n",
    "    # Usamos filter() con la función filtro_palabra para filtrar las palabras\n",
    "    return list(filter(filtro_palabra, lista_palabras))\n",
    "\n",
    "# Ejemplo\n",
    "palabras = [\"Tenedor\",\"Cuchillo\", \"Cuchara\", \"Cucharilla\", \"Vaso\", \"Plato\"]  # Lista de palabras\n",
    "letra_filtro = \"C\"  # Letra con la que deben comenzar las palabras\n",
    "\n",
    "# Llamar a la función y almacenar el resultado\n",
    "resultado = palabras_con_letra(palabras, letra_filtro)\n",
    "\n",
    "# Imprimir la lista resultante con las palabras que comienzan con la letra especificada\n",
    "print(resultado)\n",
    "\n"
   ]
  },
  {
   "cell_type": "code",
   "execution_count": null,
   "metadata": {},
   "outputs": [
    {
     "name": "stdout",
     "output_type": "stream",
     "text": [
      "[58, 67, 24, 89, 35, 5, 102]\n"
     ]
    }
   ],
   "source": [
    "\"\"\"\"\n",
    "15. Crea una función lambda que sume 3 a cada número de una lista dada.\n",
    "\"\"\"\n",
    "def sumar_tres(list_num):\n",
    "    \"\"\"\n",
    "    Suma 3 a cada número de la lista.\n",
    "    :param list_num: Lista de números a los cuales se les sumará 3.\n",
    "    :return: Lista con los números sumados con 3.\n",
    "    \"\"\"\n",
    "\n",
    "    return list(map(lambda num: num+3, list_num))\n",
    "\n",
    "# Ejemplo\n",
    "lista_numeros=[55,64,21,86,32,2,99]\n",
    "resultado=sumar_tres(lista_numeros)\n",
    "print(resultado)"
   ]
  },
  {
   "cell_type": "code",
   "execution_count": 25,
   "metadata": {},
   "outputs": [
    {
     "name": "stdout",
     "output_type": "stream",
     "text": [
      "['bicicleta', 'autobús']\n"
     ]
    }
   ],
   "source": [
    "\"\"\"\"\n",
    "16. Escribe una función que tome una cadena de texto y un número entero n como parámetros y devuelva una lista de\n",
    "todas las palabras que sean más largas que n. Usa la función filter()\n",
    "\n",
    "\"\"\"\n",
    "def contar_letras_n(list_texto, numero):\n",
    "    \"\"\"\n",
    "    Filtra las palabras de una lista que son más largas que un número específico.\n",
    "    :param list_texto: Lista de palabras.\n",
    "    :param numero: Número con el cual se comparará la longitud de cada palabra.\n",
    "    :return: Lista con las palabras que tienen más letras que el número especificado.\n",
    "    \"\"\"\n",
    "    # Usamos filter() con una función lambda que compara la longitud de cada palabra\n",
    "    return list(filter(lambda palabra: len(palabra) > numero, list_texto))\n",
    "\n",
    "# Ejemplo\n",
    "lista_palabras = ['Coche', 'moto', 'bicicleta', 'camión', 'autobús', 'avión', 'van']\n",
    "numero_n = 6\n",
    "\n",
    "# Llamar a la función y almacenar el resultado\n",
    "resultado_contar_letras = contar_letras_n(lista_palabras, numero_n)\n",
    "\n",
    "# Imprimir el resultado\n",
    "print(resultado_contar_letras)\n"
   ]
  },
  {
   "cell_type": "code",
   "execution_count": null,
   "metadata": {},
   "outputs": [
    {
     "name": "stdout",
     "output_type": "stream",
     "text": [
      "1347\n"
     ]
    }
   ],
   "source": [
    "\"\"\"\"\n",
    "17. Crea una función que tome una lista de dígitos y devuelva el número correspondiente. Por ejemplo, [5,7,2]\n",
    "corresponde al número quinientos setenta y dos (572). Usa la función reduce()\n",
    "\"\"\"\n",
    "from functools import reduce\n",
    "def num_correspondiente(acumulado, digito):\n",
    "    \"\"\"\n",
    "    Función que toma el acumulado y el siguiente dígito, \n",
    "    y los combina para formar el número correspondiente.\n",
    "    :param acumulado: El número acumulado hasta el momento.\n",
    "    :param digito: El siguiente dígito que se va a añadir al número.\n",
    "    :return: El número resultante de combinar el acumulado y el dígito.\n",
    "    \"\"\"\n",
    "    return acumulado * 10 + digito\n",
    "\n",
    "# Lista de dígitos\n",
    "numeros = [1,3,4,7] \n",
    "\n",
    "# Usamos reduce para combinar los dígitos y formar el número\n",
    "resultado = reduce(num_correspondiente, numeros)\n",
    "\n",
    "print(resultado)"
   ]
  },
  {
   "cell_type": "code",
   "execution_count": 3,
   "metadata": {},
   "outputs": [
    {
     "name": "stdout",
     "output_type": "stream",
     "text": [
      "Estudiantes con calificación mayor o igual a 90:\n",
      "{'nombre': 'Alex', 'edad': 20, 'calificacion': 95}\n",
      "{'nombre': 'Maria', 'edad': 19, 'calificacion': 91}\n"
     ]
    }
   ],
   "source": [
    "\"\"\"\"\n",
    "18. Escribe un programa en Python que cree una lista de diccionarios que contenga información de estudiantes\n",
    "(nombre, edad, calificación) y use la función filter para extraer a los estudiantes con una calificación mayor o igual a\n",
    "90. Usa la función filter()\n",
    "\"\"\"\n",
    "# Lista de estudiantes con nombre, edad y calificación\n",
    "estudiantes = [\n",
    "    {\"nombre\": \"Alex\", \"edad\": 20, \"calificacion\": 95},\n",
    "    {\"nombre\": \"Rober\", \"edad\": 22, \"calificacion\": 89.9},\n",
    "    {\"nombre\": \"Carlos\", \"edad\": 21, \"calificacion\": 87},\n",
    "    {\"nombre\": \"Claudia\", \"edad\": 23, \"calificacion\": 85.4},\n",
    "    {\"nombre\": \"Maria\", \"edad\": 19, \"calificacion\": 91},\n",
    "]\n",
    "\n",
    "# Función para filtrar estudiantes con calificación mayor o igual a 90\n",
    "estudiantes_sobresalientes = list(filter(lambda estudiante: estudiante[\"calificacion\"] >= 90, estudiantes))\n",
    "\n",
    "# Imprimir la lista de estudiantes destacados\n",
    "print(\"Estudiantes con calificación mayor o igual a 90:\")\n",
    "for estudiante in estudiantes_sobresalientes:\n",
    "    print(estudiante)"
   ]
  },
  {
   "cell_type": "code",
   "execution_count": 7,
   "metadata": {},
   "outputs": [
    {
     "name": "stdout",
     "output_type": "stream",
     "text": [
      "Los números impares son: [1, 23, 11, 5, 77]\n"
     ]
    }
   ],
   "source": [
    "\"\"\"\"\n",
    "19. Crea una función lambda que filtre los números impares de una lista dada.\n",
    "\"\"\"\n",
    "# Función lambda para filtrar números impares de una lista\n",
    "numeros = [1, 23, 11, 5, 6, 4, 8, 46, 2, 77]\n",
    "list_impares = list(filter(lambda num: num % 2 != 0, numeros))\n",
    "\n",
    "# Imprimir resultado\n",
    "print(\"Los números impares son:\", list_impares)"
   ]
  },
  {
   "cell_type": "code",
   "execution_count": null,
   "metadata": {},
   "outputs": [
    {
     "name": "stdout",
     "output_type": "stream",
     "text": [
      "Los valores int son: [2, 0, 23]\n"
     ]
    }
   ],
   "source": [
    "\"\"\"\"\n",
    "20. Para una lista con elementos tipo integer y string obtén una nueva lista sólo con los valores int. Usa la función\n",
    "filter()\n",
    "\"\"\"\"\"\n",
    "lista_caracteres=['a',2,'plátano',0,23,'.']\n",
    "list_char = list(filter(lambda elemento: isinstance(elemento, int), lista_caracteres))\n",
    "\n",
    "# Imprimir resultado\n",
    "print(\"Los valores int son:\", list_char)"
   ]
  },
  {
   "cell_type": "code",
   "execution_count": 14,
   "metadata": {},
   "outputs": [
    {
     "name": "stdout",
     "output_type": "stream",
     "text": [
      "El cubo de 5 es: 125\n"
     ]
    }
   ],
   "source": [
    "\"\"\"\"\n",
    "21. Crea una función que calcule el cubo de un número dado mediante una función lambda\n",
    "\"\"\"\"\"\n",
    "numero=5\n",
    "# Función lambda para calcular el cubo de un número\n",
    "num_cubo = lambda numero: numero ** 3\n",
    "\n",
    "# Imprimir resultado\n",
    "print(f'El cubo de {numero} es: {num_cubo(numero)}')"
   ]
  },
  {
   "cell_type": "code",
   "execution_count": 17,
   "metadata": {},
   "outputs": [
    {
     "name": "stdout",
     "output_type": "stream",
     "text": [
      "El producto total de los números en la lista es: 11040\n"
     ]
    }
   ],
   "source": [
    "\"\"\"\"\n",
    "22. Dada una lista numérica, obtén el producto total de los valores de dicha lista.Usa la función reduce() .\n",
    "\"\"\"\"\"\n",
    "from functools import reduce\n",
    "list_num=[23,5,6,8,2]\n",
    "# Calcular el producto total de los valores de una lista usando reduce()\n",
    "producto_total = reduce(lambda x, y: x * y, list_num)\n",
    "print(\"El producto total de los números en la lista es:\", producto_total)\n"
   ]
  },
  {
   "cell_type": "code",
   "execution_count": 19,
   "metadata": {},
   "outputs": [
    {
     "name": "stdout",
     "output_type": "stream",
     "text": [
      "Frase concatenada: Con diez cañones por banda, viento en popa, a toda vela\n"
     ]
    }
   ],
   "source": [
    "\"\"\"\"\n",
    "23. Concatena una lista de palabras.Usa la función reduce() .\n",
    "\"\"\"\"\"\n",
    "from functools import reduce\n",
    "# Concatenar una lista de palabras usando reduce()\n",
    "list_palabras = ['Con','diez','cañones','por','banda',',','viento','en','popa',',','a','toda','vela']\n",
    "frase_concat = reduce(lambda x, y: x + (\"\" if y in \",.!?;:\" else \" \") + y, list_palabras)\n",
    "print(\"Frase concatenada:\", frase_concat)"
   ]
  },
  {
   "cell_type": "code",
   "execution_count": 21,
   "metadata": {},
   "outputs": [
    {
     "name": "stdout",
     "output_type": "stream",
     "text": [
      "La diferencia total de los números de la lista es: 2\n"
     ]
    }
   ],
   "source": [
    "\"\"\"\n",
    "24. Calcula la diferencia total en los valores de una lista. Usa la función reduce() .\n",
    "\"\"\"\n",
    "from functools import reduce\n",
    "list_num=[23,5,6,8,2]\n",
    "# Calcular el producto total de los valores de una lista usando reduce()\n",
    "producto_total = reduce(lambda x, y: x - y, list_num)\n",
    "print(\"La diferencia total de los números de la lista es:\", producto_total)"
   ]
  },
  {
   "cell_type": "code",
   "execution_count": 25,
   "metadata": {},
   "outputs": [
    {
     "name": "stdout",
     "output_type": "stream",
     "text": [
      "El número de caracteres es: 22\n"
     ]
    }
   ],
   "source": [
    "\"\"\"\n",
    "25. Crea una función que cuente el número de caracteres en una cadena de texto dada.\n",
    "\"\"\"\n",
    "cadena_texto='esternocleidomastoideo'\n",
    "contar_caracteres= lambda cadena: len(cadena)\n",
    "print(\"El número de caracteres es:\", contar_caracteres(cadena_texto))"
   ]
  },
  {
   "cell_type": "code",
   "execution_count": 32,
   "metadata": {},
   "outputs": [
    {
     "name": "stdout",
     "output_type": "stream",
     "text": [
      "El resto de la división es: 2\n"
     ]
    }
   ],
   "source": [
    "\"\"\"\n",
    "26. Crea una función lambda que calcule el resto de la división entre dos números dados.\n",
    "\"\"\"\n",
    "num1=8\n",
    "num2=3\n",
    "resto_division= lambda x,y: (\"No se puede dividir por '0'\" if y == 0 else x % y)\n",
    "print(\"El resto de la división es:\", resto_division(num1,num2))\n"
   ]
  },
  {
   "cell_type": "code",
   "execution_count": 35,
   "metadata": {},
   "outputs": [
    {
     "name": "stdout",
     "output_type": "stream",
     "text": [
      "El promedio es: 10.8\n"
     ]
    }
   ],
   "source": [
    "\"\"\"\n",
    "27. Crea una función que calcule el promedio de una lista de números.\n",
    "\"\"\"\n",
    "list_num=[23,10,6,8,7]\n",
    "promedio= lambda num: round(sum(num) / len(num), 2)\n",
    "print(\"El promedio es:\", promedio(list_num))"
   ]
  },
  {
   "cell_type": "code",
   "execution_count": 42,
   "metadata": {},
   "outputs": [
    {
     "name": "stdout",
     "output_type": "stream",
     "text": [
      "El primer elemento duplicado es: 1\n"
     ]
    }
   ],
   "source": [
    "\"\"\"\n",
    "28. Crea una función que busque y devuelva el primer elemento duplicado en una lista dada.\n",
    "\"\"\"\n",
    "def primer_elemento_duplicado(lista):\n",
    "    \"\"\"\n",
    "    Busca y devuelve el primer elemento duplicado en una lista dada.\n",
    "    :param lista (list): Una lista de elementos que se van a evaluar en busca de duplicados.\n",
    "    :return element: El primer elemento duplicado encontrado en la lista. Si no hay duplicados, retorna None.\n",
    "    \"\"\"\n",
    "    vistos = set()  # Usamos un conjunto para hacer el seguimiento de los elementos vistos\n",
    "    for elemento in lista:\n",
    "        if elemento in vistos:\n",
    "            return elemento  # Si el elemento ya está en el conjunto, es un duplicado\n",
    "        vistos.add(elemento)\n",
    "    return None  # Si no hay duplicados, retornamos None\n",
    "\n",
    "# Ejemplo de lista\n",
    "lista = [1, 2, 'a', 4, 'A', 6, 'b', 1]\n",
    "duplicado = primer_elemento_duplicado(lista)\n",
    "if duplicado:\n",
    "    print(f\"El primer elemento duplicado es: {duplicado}\")\n",
    "else:\n",
    "    print(\"No hay elementos duplicados.\")"
   ]
  },
  {
   "cell_type": "code",
   "execution_count": 43,
   "metadata": {},
   "outputs": [
    {
     "name": "stdout",
     "output_type": "stream",
     "text": [
      "Variable enmascarada: #####8754\n"
     ]
    }
   ],
   "source": [
    "\"\"\"\n",
    "29. Crea una función que convierta una variable en una cadena de texto y enmascare todos los caracteres con el\n",
    "carácter '#', excepto los últimos cuatro.\n",
    "\"\"\"\n",
    "def enmascarar_variable(variable):\n",
    "    \"\"\"\n",
    "    Convierte una variable en una cadena de texto y enmascara todos los caracteres con el carácter '#',\n",
    "    excepto los últimos cuatro.\n",
    "\n",
    "    :param variable: La variable que se va a convertir en cadena y enmascarar.\n",
    "    :type variable: str, int, float, etc.\n",
    "    :return: La cadena enmascarada con los últimos cuatro caracteres sin enmascarar.\n",
    "    :rtype: str\n",
    "    \"\"\"\n",
    "    # Convertir la variable a cadena de texto\n",
    "    texto = str(variable)\n",
    "\n",
    "    # Si la longitud de la cadena es mayor a 4, enmascarar todos los caracteres, excepto los últimos cuatro\n",
    "    if len(texto) > 4:\n",
    "        enmascarado = '#' * (len(texto) - 4) + texto[-4:]\n",
    "    else:\n",
    "        # Si la longitud es menor o igual a 4, no enmascaramos nada\n",
    "        enmascarado = texto\n",
    "\n",
    "    return enmascarado\n",
    "\n",
    "# Ejemplo de uso\n",
    "variable = 620598754\n",
    "resultado = enmascarar_variable(variable)\n",
    "print(f\"Variable enmascarada: {resultado}\")\n"
   ]
  },
  {
   "cell_type": "code",
   "execution_count": 49,
   "metadata": {},
   "outputs": [
    {
     "name": "stdout",
     "output_type": "stream",
     "text": [
      "¿Las palabras 'azul' y 'zalu' son anagramas?: True\n"
     ]
    }
   ],
   "source": [
    "\"\"\"\n",
    "30. Crea una función que determine si dos palabras son anagramas, es decir, si están formadas por las mismas letras\n",
    "pero en diferente orden.\n",
    "\"\"\"\n",
    "def son_anagramas(palabra1, palabra2):\n",
    "    \"\"\"\n",
    "    Determina si dos palabras son anagramas, es decir, si están formadas por las mismas letras en diferente orden.\n",
    "\n",
    "    :param palabra1: Primera palabra a comparar.\n",
    "    :type palabra1: str\n",
    "    :param palabra2: Segunda palabra a comparar.\n",
    "    :type palabra2: str\n",
    "    :return: True si son anagramas, False en caso contrario.\n",
    "    :rtype: bool\n",
    "    \"\"\"\n",
    "    # Eliminamos espacios y convertimos a minúsculas para hacer la comparación sin importar mayúsculas o espacios\n",
    "    palabra1 = palabra1.replace(\" \", \"\").lower()\n",
    "    palabra2 = palabra2.replace(\" \", \"\").lower()\n",
    "\n",
    "    # Comparamos las letras ordenadas de ambas palabras\n",
    "    return sorted(palabra1) == sorted(palabra2)\n",
    "\n",
    "# Ejemplo de uso\n",
    "palabra1 = \"azul\"\n",
    "palabra2 = \"zalu\"\n",
    "resultado = son_anagramas(palabra1, palabra2)\n",
    "print(f\"¿Las palabras '{palabra1}' y '{palabra2}' son anagramas?: {resultado}\")\n"
   ]
  },
  {
   "cell_type": "code",
   "execution_count": null,
   "metadata": {},
   "outputs": [
    {
     "name": "stdout",
     "output_type": "stream",
     "text": [
      "El nombre 'pepe' fue encontrado en la lista.\n"
     ]
    }
   ],
   "source": [
    "\"\"\"\n",
    "31. Crea una función que solicite al usuario ingresar una lista de nombres y luego solicite un nombre para buscar en\n",
    "esa lista. Si el nombre está en la lista, se imprime un mensaje indicando que fue encontrado, de lo contrario, se\n",
    "lanza una excepción.\n",
    "\"\"\"\n",
    "def lista_nombre_objetivo():\n",
    "    \"\"\"\n",
    "    Solicita al usuario ingresar una lista de nombres y luego un nombre a buscar.\n",
    "    Si el nombre se encuentra en la lista, imprime un mensaje de éxito.\n",
    "    Si no se encuentra, lanza una excepción.\n",
    "\n",
    "    :raises ValueError: Si el nombre no está en la lista.\n",
    "    \"\"\"\n",
    "    # Pedir al usuario una lista de nombres separados por comas y convertirlo en lista\n",
    "    lista_nombres = str(input(\"Por favor, ingrese una lista de nombres: \")).lower().split(\",\")\n",
    "    # Eliminar espacios adicionales en los nombres ingresados\n",
    "    lista_nombres = [nombre.strip() for nombre in lista_nombres]\n",
    "    # Pedir el nombre a buscar\n",
    "    nombre_objetivo = input(\"Ingrese el nombre a buscar: \").lower().strip()\n",
    "     \n",
    "    if nombre_objetivo in lista_nombres:\n",
    "        print(f\"El nombre '{nombre_objetivo}' fue encontrado en la lista.\")\n",
    "    else:\n",
    "        raise ValueError(f\"Error: El nombre '{nombre_objetivo}' no se encuentra en la lista.\")\n",
    "\n",
    "\n",
    "\n",
    "# Ejecutar la función\n",
    "try:\n",
    "    lista_nombre_objetivo()\n",
    "except ValueError as e:\n",
    "    print(e)"
   ]
  },
  {
   "cell_type": "code",
   "execution_count": 57,
   "metadata": {},
   "outputs": [
    {
     "name": "stdout",
     "output_type": "stream",
     "text": [
      "Puesto: Director\n"
     ]
    }
   ],
   "source": [
    "\"\"\"\n",
    "32. Crea una función que tome un nombre completo y una lista de empleados, busque el nombre completo en la lista y\n",
    "devuelve el puesto del empleado si está en la lista, de lo contrario, devuelve un mensaje indicando que la persona\n",
    "no trabaja aquí.\n",
    "\"\"\"\n",
    "def buscar_puesto(nombre_completo, empleados):\n",
    "    \"\"\"\n",
    "    Busca el puesto de un empleado en una lista dada.\n",
    "\n",
    "    :param nombre_completo: Nombre completo del empleado a buscar.\n",
    "    :type nombre_completo: str\n",
    "    :param empleados: Lista de diccionarios con información de empleados (nombre y puesto).\n",
    "    :type empleados: list[dict]\n",
    "    :return: El puesto del empleado si está en la lista, o un mensaje si no está registrado.\n",
    "    :rtype: str\n",
    "    \"\"\"\n",
    "    # Buscar en la lista de empleados\n",
    "    for empleado in empleados:\n",
    "        if empleado[\"nombre\"].lower() == nombre_completo.lower():\n",
    "            return empleado[\"puesto\"]  # Devuelve el puesto si el nombre coincide\n",
    "\n",
    "    return \"La persona no trabaja aquí.\"  # Mensaje si no se encuentra el empleado\n",
    "\n",
    "# Lista de empleados\n",
    "empleados = [\n",
    "    {\"nombre\": \"Ana Perez\", \"puesto\": \"Gerente\"},\n",
    "    {\"nombre\": \"Luis Gomez\", \"puesto\": \"Analista\"},\n",
    "    {\"nombre\": \"Carlos Ruiz\", \"puesto\": \"Desarrollador\"},\n",
    "    {\"nombre\": \"Maria Jimenez\", \"puesto\": \"Manager\"},\n",
    "    {\"nombre\": \"Antonio Lopez\", \"puesto\": \"Director\"}\n",
    "]\n",
    "\n",
    "# Solicitar nombre al usuario\n",
    "nombre_buscar = input(\"Ingrese el nombre completo del empleado: \").lower().strip()\n",
    "\n",
    "# Buscar el puesto y mostrar el resultado\n",
    "puesto = buscar_puesto(nombre_buscar, empleados)\n",
    "print(f\"Puesto: {puesto}\")\n"
   ]
  },
  {
   "cell_type": "code",
   "execution_count": null,
   "metadata": {},
   "outputs": [
    {
     "name": "stdout",
     "output_type": "stream",
     "text": [
      "La suma de listas es: [54, 32, 62]\n"
     ]
    }
   ],
   "source": [
    "\"\"\"\n",
    "33. Crea una función lambda que sume elementos correspondientes de dos listas dadas.\n",
    "\"\"\"\n",
    "list_num1=[3,9,56] # Ejemplo lista 1\n",
    "list_num2=[51,23,6] # Ejemplo lista 2\n",
    "sum_list= list(map(lambda x,y: x+y, list_num1, list_num2)) #función lambda para sumar dos listas\n",
    "print(\"La suma de listas es:\", sum_list) # Resultado"
   ]
  },
  {
   "cell_type": "code",
   "execution_count": 23,
   "metadata": {},
   "outputs": [
    {
     "name": "stdout",
     "output_type": "stream",
     "text": [
      "Tronco: 2, Número de ramas: 2, Longitudes de ramas: [2, 1]\n"
     ]
    }
   ],
   "source": [
    "\"\"\"\n",
    "34. Crea la clase Arbol , define un árbol genérico con un tronco y ramas como atributos. Los métodos disponibles son:\n",
    "crecer_tronco , nueva_rama , crecer_ramas , quitar_rama e info_arbol . El objetivo es implementar estos métodos para\n",
    "manipular la estructura del árbol.\n",
    "Código a seguir:\n",
    "1. Inicializar un árbol con un tronco de longitud 1 y una lista vacía de ramas.\n",
    "2. Implementar el método crecer_tronco para aumentar la longitud del tronco en una unidad.\n",
    "3. Implementar el método nueva_rama para agregar una nueva rama de longitud 1 a la lista de ramas.\n",
    "4. Implementar el método crecer_ramas para aumentar en una unidad la longitud de todas las ramas existentes.\n",
    "5. Implementar el método quitar_rama para eliminar una rama en una posición específica.\n",
    "6. Implementar el método info_arbol para devolver información sobre la longitud del tronco, el número de ramas y las longitudes de las\n",
    "mismas.\n",
    "Caso de uso:\n",
    "1. Crear un árbol.\n",
    "2. Hacer crecer el tronco del árbol una unidad.\n",
    "3. Añadir una nueva rama al árbol.\n",
    "4. Hacer crecer todas las ramas del árbol una unidad.\n",
    "5. Añadir dos nuevas ramas al árbol.\n",
    "6. Retirar la rama situada en la posición 2.\n",
    "7. Obtener información sobre el árbol.\n",
    "\"\"\"\n",
    "class Arbol:\n",
    "    # Constructor de la clase\n",
    "    def __init__(self):\n",
    "        self.tronco = 1  # Longitud inicial del tronco\n",
    "        self.ramas = []  # Lista vacía de ramas\n",
    "\n",
    "    # Método para aumentar la longitud del tronco en una unidad\n",
    "    def crecer_tronco(self):\n",
    "        self.tronco +=1\n",
    "    \n",
    "    # Método para agregar una nueva rama con longitud 1\n",
    "    def nueva_rama(self):\n",
    "        self.ramas.append(1)\n",
    "\n",
    "    # Método para aumentar en una unidad la longitud de todas las ramas existentes\n",
    "    def crecer_ramas(self):\n",
    "        self.ramas = [rama + 1 for rama in self.ramas]\n",
    "\n",
    "    # Método para eliminar una rama en una posición específica\n",
    "    def quitar_rama(self, posicion):\n",
    "        if 0 <= posicion < len(self.ramas):\n",
    "            del self.ramas[posicion]\n",
    "    \n",
    "    # Método para obtener información sobre el árbol\n",
    "    def info_arbol(self):\n",
    "        return f\"Tronco: {self.tronco}, Número de ramas: {len(self.ramas)}, Longitudes de ramas: {self.ramas}\"\n",
    "\n",
    "# Caso de uso\n",
    "# 1. Crear un árbol.\n",
    "arbol = Arbol()\n",
    "# 2. Hacer crecer el tronco del árbol una unidad.\n",
    "arbol.crecer_tronco()\n",
    "# 3. Añadir una nueva rama al árbol.\n",
    "arbol.nueva_rama()\n",
    "# 4. Hacer crecer todas las ramas del árbol una unidad.\n",
    "arbol.crecer_ramas()\n",
    "# 5. Añadir dos nuevas ramas al árbol.\n",
    "arbol.nueva_rama()\n",
    "arbol.nueva_rama()\n",
    "# 6. Retirar la rama situada en la posición 2.\n",
    "arbol.quitar_rama(2)\n",
    "# 7. Obtener información sobre el árbol.\n",
    "print(arbol.info_arbol())\n"
   ]
  },
  {
   "cell_type": "code",
   "execution_count": 73,
   "metadata": {},
   "outputs": [
    {
     "name": "stdout",
     "output_type": "stream",
     "text": [
      "No se puede realizar la transacción por falta de dinero\n",
      "Usuario del banco: Alicia, Saldo: 50, ¿Tiene cuenta corriente?: True\n",
      "Usuario del banco: Bob, Saldo: 70, ¿Tiene cuenta corriente?: True\n"
     ]
    }
   ],
   "source": [
    "\"\"\"\n",
    "36. Crea la clase UsuarioBanco ,representa a un usuario de un banco con su nombre, saldo y si tiene o no cuenta\n",
    "corriente. Proporciona métodos para realizar operaciones como retirar dinero, transferir dinero desde otro usuario y\n",
    "agregar dinero al saldo.\n",
    "Código a seguir:\n",
    "1. Inicializar un usuario con su nombre, saldo y si tiene o no cuenta corriente mediante True y False .\n",
    "2. Implementar el método retirar_dinero para retirar dinero del saldo del usuario. Lanzará un error en caso de no\n",
    "poder hacerse.\n",
    "3. Implementar el método transferir_dinero para realizar una transferencia desde otro usuario al usuario actual.\n",
    "Lanzará un error en caso de no poder hacerse.\n",
    "4. Implementar el método agregar_dinero para agregar dinero al saldo del usuario.\n",
    "Caso de uso:\n",
    "1. Crear dos usuarios: \"Alicia\" con saldo inicial de 100 y \"Bob\" con saldo inicial de 50, ambos con cuenta corriente.\n",
    "2. Agregar 20 unidades de saldo de \"Bob\".\n",
    "3. Hacer una transferencia de 80 unidades desde \"Bob\" a \"Alicia\".\n",
    "4. Retirar 50 unidades de saldo a \"Alicia\".\n",
    "\"\"\"\n",
    "class UsuarioBanco:\n",
    "    # Constructor de la clase\n",
    "    def __init__(self, nombre, saldo, cuenta_corriente):\n",
    "        self.nombre = nombre # Str nombre usuario banco\n",
    "        self.saldo = saldo  # Int saldo en el banco\n",
    "        self.cuenta_corriente = cuenta_corriente  # Booleano tiene cuenta corriente\n",
    "\n",
    "    # Método para retirar dinero del saldo del usuario\n",
    "    def retirar_dinero(self, cantidad):\n",
    "        if cantidad > self.saldo:\n",
    "            print('No se puede realizar la transacción por falta de dinero')\n",
    "            return\n",
    "        self.saldo -= cantidad\n",
    "\n",
    "    # Método para realizar una transferencia desde otro usuario al usuario actual\n",
    "    def transferir_dinero(self, otro_usuario, cantidad):\n",
    "        if cantidad > self.saldo:\n",
    "            print('No se puede realizar la transacción por falta de dinero')\n",
    "            return\n",
    "        otro_usuario.saldo += cantidad\n",
    "        self.saldo -= cantidad\n",
    "    \n",
    "    # Método para agregar dinero al saldo del usuario\n",
    "    def agregar_dinero(self, cantidad):\n",
    "        self.saldo += cantidad  \n",
    "\n",
    "    # Método para obtener información sobre el árbol\n",
    "    def info_banco(self):\n",
    "        return f\"Usuario del banco: {self.nombre}, Saldo: {self.saldo}, ¿Tiene cuenta corriente?: {self.cuenta_corriente}\"\n",
    "\n",
    "#Caso de uso:\n",
    "#1. Crear dos usuarios: \"Alicia\" con saldo inicial de 100 y \"Bob\" con saldo inicial de 50, ambos con cuenta corriente.\n",
    "cliente1=UsuarioBanco('Alicia', 100, True)\n",
    "cliente2=UsuarioBanco('Bob', 50, True)\n",
    "\n",
    "#2. Agregar 20 unidades de saldo de \"Bob\".\n",
    "cliente2.agregar_dinero(20)\n",
    "\n",
    "#3. Hacer una transferencia de 80 unidades desde \"Bob\" a \"Alicia\".\n",
    "cliente2.transferir_dinero(cliente1,80)\n",
    "\n",
    "#4. Retirar 50 unidades de saldo a \"Alicia\".\n",
    "cliente1.retirar_dinero(50)\n",
    "\n",
    "print(cliente1.info_banco())\n",
    "print(cliente2.info_banco())\n"
   ]
  },
  {
   "cell_type": "code",
   "execution_count": null,
   "metadata": {},
   "outputs": [
    {
     "name": "stdout",
     "output_type": "stream",
     "text": [
      "{'bien': 1, 'cómo': 1, 'hola': 2, 'todo': 1, 'estás': 1}\n",
      "Pepe, ¿cómo estás? Pepe, ¿todo bien?\n",
      "¿cómo estás? ¿todo bien?\n"
     ]
    }
   ],
   "source": [
    "\"\"\"\n",
    "37. Crea una función llamada procesar_texto que procesa un texto según la opción especificada: contar_palabras ,\n",
    "reemplazar_palabras , eliminar_palabra . Estas opciones son otras funciones que tenemos que definir primero y llamar dentro\n",
    "de la función procesar_texto .\n",
    "Código a seguir:\n",
    "1. Crear una función contar_palabras para contar el número de veces que aparece cada palabra en el texto. Tiene\n",
    "que devolver un diccionario.\n",
    "2. Crear una función reemplazar_palabras para remplazar una palabra_original del texto por una palabra_nueva . Tiene\n",
    "que devolver el texto con el remplazo de palabras.\n",
    "3. Crear una función eliminar_palabra para eliminar una palabra del texto. Tiene que devolver el texto con la palabra\n",
    "eliminada.\n",
    "4. Crear la función procesar_texto que tome un texto, una opción(entre \"contar\", \"reemplazar\", \"eliminar\") y un\n",
    "número de argumentos variable según la opción indicada.\n",
    "Caso de uso:\n",
    "Comprueba el funcionamiento completo de la función procesar_texto\n",
    "\"\"\"\n",
    "import re\n",
    "\n",
    "def contar_palabras(texto):\n",
    "    \"\"\"\n",
    "    Cuenta la cantidad de veces que aparece cada palabra en un texto.\n",
    "    Parámetros:\n",
    "        texto (str): El texto a analizar.\n",
    "    Retorna:\n",
    "        dict: Diccionario con la frecuencia de cada palabra.\n",
    "    \"\"\"\n",
    "    texto_limpio = re.sub(r'[^\\w\\s]', '', texto).lower()\n",
    "    palabras = texto_limpio.split()\n",
    "    return {palabra: palabras.count(palabra) for palabra in set(palabras)}\n",
    "\n",
    "def reemplazar_palabras(texto, palabra_original, palabra_nueva):\n",
    "    \"\"\"\n",
    "    Reemplaza una palabra específica en un texto por otra.\n",
    "    Parámetros:\n",
    "        texto (str): El texto donde se hará el reemplazo.\n",
    "        palabra_original (str): La palabra a cambiar.\n",
    "        palabra_nueva (str): La nueva palabra.\n",
    "    Retorna:\n",
    "        str: Texto modificado con la palabra reemplazada.\n",
    "    \"\"\"\n",
    "    return re.sub(r'\\b' + re.escape(palabra_original) + r'\\b', palabra_nueva, texto, flags=re.IGNORECASE)\n",
    "\n",
    "def eliminar_palabra(texto, palabra_eliminar):\n",
    "    \"\"\"\n",
    "    Elimina una palabra específica del texto, limpiando espacios innecesarios.\n",
    "    Parámetros:\n",
    "        texto (str): El texto donde se eliminará la palabra.\n",
    "        palabra_eliminar (str): La palabra a eliminar.\n",
    "    Retorna:\n",
    "        str: Texto modificado sin la palabra.\n",
    "    \"\"\"\n",
    "    texto_modificado = re.sub(r'\\b' + re.escape(palabra_eliminar) + r'\\b,?', '', texto, flags=re.IGNORECASE)\n",
    "    texto_modificado = re.sub(r'\\s+([,?.!])', r'\\1', texto_modificado).strip()\n",
    "    return re.sub(r'\\s+', ' ', texto_modificado)\n",
    "\n",
    "def procesar_texto(texto, opcion, *args):\n",
    "    \"\"\"\n",
    "    Procesa el texto según la opción dada: \"contar\", \"reemplazar\" o \"eliminar\".\n",
    "    Parámetros:\n",
    "        texto (str): El texto a procesar.\n",
    "        opcion (str): La operación a realizar (\"contar\", \"reemplazar\", \"eliminar\").\n",
    "        *args: Argumentos adicionales según la opción elegida.\n",
    "    Retorna:\n",
    "        Resultado de la función seleccionada.\n",
    "    \"\"\"\n",
    "    if opcion == 'contar':\n",
    "        return contar_palabras(texto)\n",
    "    elif opcion == 'reemplazar' and len(args) == 2:\n",
    "        return reemplazar_palabras(texto, args[0], args[1])\n",
    "    elif opcion == 'eliminar' and len(args) == 1:\n",
    "        return eliminar_palabra(texto, args[0])\n",
    "    else:\n",
    "        return 'Opción no válida o argumentos insuficientes.'\n",
    "\n",
    "# ✅ **Ejemplos de uso**\n",
    "texto = 'Hola, ¿cómo estás? Hola, ¿todo bien?'\n",
    "\n",
    "# Contar palabras\n",
    "print(procesar_texto(texto, 'contar'))\n",
    "\n",
    "# Reemplazar palabra\n",
    "print(procesar_texto(texto, 'reemplazar', 'Hola', 'Pepe'))\n",
    "\n",
    "# Eliminar palabra\n",
    "print(procesar_texto(texto, 'eliminar', 'Hola'))\n"
   ]
  },
  {
   "cell_type": "code",
   "execution_count": 110,
   "metadata": {},
   "outputs": [
    {
     "name": "stdout",
     "output_type": "stream",
     "text": [
      "Es de noche\n"
     ]
    }
   ],
   "source": [
    "\"\"\"\"\n",
    "38. Genera un programa que nos diga si es de noche, de día o tarde según la hora proporcionada por el usuario.\n",
    "\"\"\"\n",
    "\n",
    "def clasificacion_dia(hora):\n",
    "    \"\"\"\n",
    "    Determina si es de día, tarde o noche según la hora ingresada.\n",
    "\n",
    "    Parámetros:\n",
    "    hora (int): La hora proporcionada por el usuario (0-24).\n",
    "\n",
    "    Retorna:\n",
    "    str: Un mensaje indicando si es de día, tarde o noche.\n",
    "    \"\"\"\n",
    "    if hora <=0 or hora > 24:\n",
    "        return('Introduzca una hora correcta')\n",
    "    elif 6 <= hora <= 14:\n",
    "        return('Es de día')\n",
    "    elif 14 < hora <= 22:\n",
    "        return('Es por la tarde')\n",
    "    else:\n",
    "        return('Es de noche')\n",
    "\n",
    "# Ejemplo\n",
    "hora_dia= float(input('Por favor, introduce una hora correcta (0-24):'))\n",
    "resultado=clasificacion_dia(hora_dia)\n",
    "print(resultado)"
   ]
  },
  {
   "cell_type": "code",
   "execution_count": 132,
   "metadata": {},
   "outputs": [
    {
     "name": "stdout",
     "output_type": "stream",
     "text": [
      "Error: Ingresa un número válido.\n"
     ]
    }
   ],
   "source": [
    "\"\"\"\"\n",
    "39. Escribe un programa que determine qué calificación en texto tiene un alumno en base a su calificación numérica.\n",
    "Las reglas de calificación son:\n",
    "- 0 - 69 insuficiente\n",
    "- 70 - 79 bien\n",
    "- 80 - 89 muy bien\n",
    "- 90 - 100 excelente\n",
    "\"\"\"\n",
    "def calificacion(nota):\n",
    "    if nota < 0 or nota > 100:\n",
    "        return('Introduzca una nota correcta')\n",
    "    elif nota < 70:\n",
    "        return('Su calificacion es: insuficiente')\n",
    "    elif nota < 80:\n",
    "        return('Su calificacion es: bien')\n",
    "    elif nota < 90:\n",
    "        return('Su calificacion es: muy bien')\n",
    "    else:\n",
    "        return('Su calificacion es: excelente')\n",
    "\n",
    "# Ejemplo\n",
    "try:\n",
    "    nota_alumno = float(input(\"Por favor, introduce una nota (0-100): \"))\n",
    "    print(calificacion(nota_alumno))\n",
    "except ValueError:\n",
    "    print(\"Error: Ingresa un número válido.\")"
   ]
  },
  {
   "cell_type": "code",
   "execution_count": 143,
   "metadata": {},
   "outputs": [
    {
     "name": "stdout",
     "output_type": "stream",
     "text": [
      "El área del triángulo es:20.0\n"
     ]
    }
   ],
   "source": [
    "\"\"\"\"\n",
    "40. Escribe una función que tome dos parámetros: figura (una cadena que puede ser \"rectangulo\" , \"circulo\" o\n",
    "\"triangulo\" ) y datos (una tupla con los datos necesarios para calcular el área de la figura).\n",
    "\"\"\"\n",
    "import math\n",
    "def calculo_area_figura(figura,datos):\n",
    "    \"\"\"\n",
    "    Calcula el área de diferentes figuras según el nombre de la figura y sus datos.\n",
    "    \n",
    "    Parámetros:\n",
    "    figura (str): Nombre de la figura (rectangulo, circulo, triangulo).\n",
    "    datos (tuple): Tupla con los datos necesarios para calcular el área.\n",
    "    \n",
    "    Retorna:\n",
    "    float: El área calculada de la figura.\n",
    "    \"\"\"\n",
    "    if figura =='rectangulo':\n",
    "        largo, ancho = datos\n",
    "        area_rectangulo = largo * ancho\n",
    "        return f'El área del rectángulo es:{area_rectangulo}'\n",
    "    \n",
    "    elif figura =='circulo':\n",
    "        radio = datos[0]\n",
    "        area_circulo = round(math.pi * radio ** 2,2)\n",
    "        return f'El área del círculo es:{area_circulo}'\n",
    "    \n",
    "    elif figura =='triangulo':\n",
    "        base, altura = datos\n",
    "        area_triangulo = (base * altura)/2\n",
    "        return f'El área del triángulo es:{area_triangulo}'\n",
    "    \n",
    "    else:\n",
    "        return \"Figura no reconocida\"\n",
    "    \n",
    "# Ejemplo\n",
    "\n",
    "area_figura = input(\"Por favor, introduce el nombre de la figura que deseas calcular su area (rectangulo, circulo, triangulo): \").lower()\n",
    "dato_figura = input(\"Por favor, los datos correspondientes del area a calcular: \").split(',')\n",
    "# Convertir los datos a una tupla de números flotantes\n",
    "datos = tuple(map(float, dato_figura))\n",
    "print(calculo_area_figura(area_figura,datos))\n"
   ]
  },
  {
   "cell_type": "code",
   "execution_count": 17,
   "metadata": {},
   "outputs": [
    {
     "name": "stdout",
     "output_type": "stream",
     "text": [
      "El precio final del artículo es: 79.00 €\n"
     ]
    }
   ],
   "source": [
    "\"\"\"\"\n",
    "41. En este ejercicio, se te pedirá que escribas un programa en Python que utilice condicionales para determinar el\n",
    "monto final de una compra en una tienda en línea, después de aplicar un descuento. El programa debe hacer lo\n",
    "siguiente:\n",
    "1. Solicita al usuario que ingrese el precio original de un artículo.\n",
    "2. Pregunta al usuario si tiene un cupón de descuento (respuesta sí o no).\n",
    "3. Si el usuario responde que sí, solicita que ingrese el valor del cupón de descuento.\n",
    "4. Aplica el descuento al precio original del artículo, siempre y cuando el valor del cupón sea válido (es decir, mayor\n",
    "a cero). Por ejemplo, descuento de 15€.\n",
    "5. Muestra el precio final de la compra, teniendo en cuenta el descuento aplicado o sin él.\n",
    "6. Recuerda utilizar estructuras de control de flujo como if, elif y else para llevar a cabo estas acciones en tu\n",
    "programa de Python.\n",
    "\"\"\"\n",
    "# Solicitar al usuario el precio original del artículo\n",
    "precio_original = float(input('Por favor, ingrese el precio original del artículo: '))\n",
    "\n",
    "# Preguntar si tiene un cupón de descuento y validar entrada\n",
    "while True:\n",
    "    tiene_descuento = input('¿El artículo tiene descuento? (si/no): ').strip().lower()\n",
    "    \n",
    "    if tiene_descuento.isalpha() and tiene_descuento in ['si', 'no']:\n",
    "        break  # Salimos del bucle si la entrada es válida\n",
    "    else:\n",
    "        print(\"Error: Por favor, ingrese 'si' o 'no'.\")\n",
    "\n",
    "# Inicializar el valor del descuento\n",
    "valor_descuento = 0\n",
    "\n",
    "# Si el usuario tiene un cupón, solicitar el valor del descuento\n",
    "if tiene_descuento == 'si':\n",
    "    valor_descuento = float(input('Ingrese el valor del cupón de descuento: '))\n",
    "\n",
    "    # Validar que el descuento sea mayor que 0\n",
    "    if valor_descuento > 0:\n",
    "        precio_final = precio_original - valor_descuento\n",
    "    else:\n",
    "        print('El valor del descuento tiene que ser mayor que 0.')\n",
    "        precio_final = precio_original  # No se aplica descuento\n",
    "else:\n",
    "    precio_final = precio_original  # No se aplica descuento\n",
    "\n",
    "# Mostrar el precio final\n",
    "print(f'El precio final del artículo es: {precio_final:.2f} €')"
   ]
  }
 ],
 "metadata": {
  "kernelspec": {
   "display_name": "Python 3",
   "language": "python",
   "name": "python3"
  },
  "language_info": {
   "codemirror_mode": {
    "name": "ipython",
    "version": 3
   },
   "file_extension": ".py",
   "mimetype": "text/x-python",
   "name": "python",
   "nbconvert_exporter": "python",
   "pygments_lexer": "ipython3",
   "version": "3.13.2"
  }
 },
 "nbformat": 4,
 "nbformat_minor": 2
}
